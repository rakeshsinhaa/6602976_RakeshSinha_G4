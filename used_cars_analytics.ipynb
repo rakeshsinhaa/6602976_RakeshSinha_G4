{
  "cells": [
    {
      "cell_type": "markdown",
      "metadata": {
        "id": "Oz7wi-Iw2iGZ"
      },
      "source": [
        "# Imports"
      ]
    },
    {
      "cell_type": "code",
      "execution_count": null,
      "metadata": {
        "id": "lO6fheT22Jaz"
      },
      "outputs": [],
      "source": [
        "import pandas as pd\n",
        "import numpy as np\n"
      ]
    },
    {
      "cell_type": "markdown",
      "metadata": {
        "id": "JfuiC6Nv2qy1"
      },
      "source": [
        "# Reading data and Getting insights"
      ]
    },
    {
      "cell_type": "code",
      "execution_count": null,
      "metadata": {
        "id": "hX3TNBNZ2poC"
      },
      "outputs": [],
      "source": [
        "import pandas as pd\n",
        "\n",
        "df = pd.read_csv('used_cars.csv', encoding='unicode_escape')"
      ]
    },
    {
      "cell_type": "code",
      "execution_count": null,
      "metadata": {
        "colab": {
          "base_uri": "https://localhost:8080/",
          "height": 0
        },
        "id": "pQ8uWgLf3AH1",
        "outputId": "71ef4427-03a8-40ad-83c5-d8a7c856f614"
      },
      "outputs": [],
      "source": [
        "df"
      ]
    },
    {
      "cell_type": "code",
      "execution_count": null,
      "metadata": {
        "colab": {
          "base_uri": "https://localhost:8080/"
        },
        "id": "NT63uTlv3TBL",
        "outputId": "2019584b-3f3d-433c-f13c-f42e158542fd"
      },
      "outputs": [],
      "source": [
        "df.shape"
      ]
    },
    {
      "cell_type": "code",
      "execution_count": null,
      "metadata": {},
      "outputs": [],
      "source": [
        "df.head(10)"
      ]
    },
    {
      "cell_type": "code",
      "execution_count": null,
      "metadata": {
        "colab": {
          "base_uri": "https://localhost:8080/"
        },
        "id": "qCLBk_qm4eNV",
        "outputId": "bc901286-5b81-48b5-f27d-0469315ec127"
      },
      "outputs": [],
      "source": [
        "print(f\"no of rows -- {df.shape[0]}\")\n",
        "print(f\"no of columns -- {df.shape[1]}\")"
      ]
    },
    {
      "cell_type": "code",
      "execution_count": null,
      "metadata": {
        "colab": {
          "base_uri": "https://localhost:8080/"
        },
        "id": "lyWAe3LI5SVN",
        "outputId": "0a755945-04cb-438d-92aa-ba03c7a7e7c5"
      },
      "outputs": [],
      "source": [
        "df.info()"
      ]
    },
    {
      "cell_type": "code",
      "execution_count": null,
      "metadata": {
        "colab": {
          "base_uri": "https://localhost:8080/",
          "height": 0
        },
        "id": "XwtAdRrV5UPO",
        "outputId": "79d41ce4-15dd-424b-ef6e-1f7c979dac9c"
      },
      "outputs": [],
      "source": [
        "df.describe().T"
      ]
    },
    {
      "cell_type": "code",
      "execution_count": null,
      "metadata": {
        "colab": {
          "base_uri": "https://localhost:8080/"
        },
        "id": "1y7Q-nKb5V9l",
        "outputId": "cd33c632-6b96-440a-d232-7facc51d706b"
      },
      "outputs": [],
      "source": [
        "type(df.columns)"
      ]
    },
    {
      "cell_type": "code",
      "execution_count": null,
      "metadata": {
        "colab": {
          "base_uri": "https://localhost:8080/",
          "height": 0
        },
        "id": "KO-2am1T7aen",
        "outputId": "0566d239-e1c0-4f75-fa25-9e4707a9acfd"
      },
      "outputs": [],
      "source": [
        "df.nunique()"
      ]
    },
    {
      "cell_type": "code",
      "execution_count": null,
      "metadata": {
        "colab": {
          "base_uri": "https://localhost:8080/"
        },
        "id": "FedQfbZ57heQ",
        "outputId": "32a21aef-584f-4747-dd48-e0ce381c102a"
      },
      "outputs": [],
      "source": [
        "df['Year'].min()\n",
        "df['Year'].max()"
      ]
    },
    {
      "cell_type": "markdown",
      "metadata": {
        "id": "smOxKC9j8Eyc"
      },
      "source": [
        "1998 -- 2019  years"
      ]
    },
    {
      "cell_type": "code",
      "execution_count": null,
      "metadata": {
        "colab": {
          "base_uri": "https://localhost:8080/",
          "height": 0
        },
        "id": "SwVH-ecy7-pl",
        "outputId": "2dbface6-40bb-44d4-ed09-85c893d22a36"
      },
      "outputs": [],
      "source": [
        "df['Location'].value_counts()"
      ]
    },
    {
      "cell_type": "code",
      "execution_count": null,
      "metadata": {
        "colab": {
          "base_uri": "https://localhost:8080/"
        },
        "id": "NJyM7zs88WAf",
        "outputId": "62c12eb1-d6d2-44d6-a0f7-8adc0da0336c"
      },
      "outputs": [],
      "source": [
        "df.duplicated().sum()"
      ]
    },
    {
      "cell_type": "code",
      "execution_count": null,
      "metadata": {
        "id": "tVP2mB3x8ilm"
      },
      "outputs": [],
      "source": [
        "df.drop_duplicates(inplace=True)"
      ]
    },
    {
      "cell_type": "markdown",
      "metadata": {
        "id": "3xtNnK_L9lQM"
      },
      "source": [
        "# Removing Unwanted Columns"
      ]
    },
    {
      "cell_type": "code",
      "execution_count": null,
      "metadata": {
        "colab": {
          "base_uri": "https://localhost:8080/",
          "height": 0
        },
        "id": "gmCGWc4F84qx",
        "outputId": "8c7e4285-5819-4568-a37b-af6a6534aef9"
      },
      "outputs": [],
      "source": [
        "df.isna().sum()"
      ]
    },
    {
      "cell_type": "code",
      "execution_count": null,
      "metadata": {
        "colab": {
          "base_uri": "https://localhost:8080/"
        },
        "id": "CccD2NdR9qR4",
        "outputId": "61a469f4-ecbe-4aad-c45c-8d9f0757eb47"
      },
      "outputs": [],
      "source": [
        "df.shape"
      ]
    },
    {
      "cell_type": "code",
      "execution_count": null,
      "metadata": {
        "id": "jqsLmAyY90qI"
      },
      "outputs": [],
      "source": [
        "df.drop(['Unnamed: 0', 'New_Price'], axis=1, inplace=True)"
      ]
    },
    {
      "cell_type": "code",
      "execution_count": null,
      "metadata": {
        "colab": {
          "base_uri": "https://localhost:8080/",
          "height": 0
        },
        "id": "KB0GOlew-gjn",
        "outputId": "8ae03ae8-39c7-4da4-9f45-0a2c962d9701"
      },
      "outputs": [],
      "source": [
        "df.isna().sum()"
      ]
    },
    {
      "cell_type": "code",
      "execution_count": null,
      "metadata": {
        "id": "mLvUoygv-jXF"
      },
      "outputs": [],
      "source": []
    },
    {
      "cell_type": "code",
      "execution_count": null,
      "metadata": {
        "id": "eVvkVFa3b3As"
      },
      "outputs": [],
      "source": []
    },
    {
      "cell_type": "markdown",
      "metadata": {
        "id": "3FZtH8Uu-4Wv"
      },
      "source": [
        "# Converting numerical with units to plain numerical"
      ]
    },
    {
      "cell_type": "code",
      "execution_count": null,
      "metadata": {
        "colab": {
          "base_uri": "https://localhost:8080/",
          "height": 0
        },
        "id": "_mpMqEYG-9hZ",
        "outputId": "ef94a5fb-f59a-429a-c0c7-30562cfee335"
      },
      "outputs": [],
      "source": [
        "df"
      ]
    },
    {
      "cell_type": "code",
      "execution_count": null,
      "metadata": {
        "colab": {
          "base_uri": "https://localhost:8080/",
          "height": 0
        },
        "id": "sA3y5Pql_Oht",
        "outputId": "3feee5ae-b979-45a7-8e7f-6e7df59180ae"
      },
      "outputs": [],
      "source": [
        "df.iloc[0:10, 0:2]\n",
        "\n",
        "# iloc[rows, columns]"
      ]
    },
    {
      "cell_type": "code",
      "execution_count": null,
      "metadata": {
        "colab": {
          "base_uri": "https://localhost:8080/",
          "height": 0
        },
        "id": "C7LF8gcz_Y5x",
        "outputId": "ec2ef981-7e72-417b-97cc-006c8ff94f96"
      },
      "outputs": [],
      "source": [
        "df.loc[4:50, [\"Name\", \"Mileage\", \"Kilometers_Driven\"]]"
      ]
    },
    {
      "cell_type": "code",
      "execution_count": null,
      "metadata": {
        "colab": {
          "base_uri": "https://localhost:8080/",
          "height": 0
        },
        "id": "HKi2PTyK_7ww",
        "outputId": "0d192ccb-df83-49be-ff9e-a6bf5c0043df"
      },
      "outputs": [],
      "source": [
        "df.head(10)"
      ]
    },
    {
      "cell_type": "code",
      "execution_count": null,
      "metadata": {
        "colab": {
          "base_uri": "https://localhost:8080/",
          "height": 0
        },
        "id": "N6Czo8BYAPWD",
        "outputId": "f666b84d-a7fd-4c0e-afbe-650215b9a947"
      },
      "outputs": [],
      "source": [
        "df.tail(7)"
      ]
    },
    {
      "cell_type": "code",
      "execution_count": null,
      "metadata": {
        "colab": {
          "base_uri": "https://localhost:8080/"
        },
        "id": "xkhn6gj8ASi6",
        "outputId": "5b1a13c3-e1fd-45ee-cce2-ddd2b24c6ef0"
      },
      "outputs": [],
      "source": [
        "type(df.loc[3, \"Mileage\"])"
      ]
    },
    {
      "cell_type": "code",
      "execution_count": null,
      "metadata": {
        "colab": {
          "base_uri": "https://localhost:8080/"
        },
        "id": "Pb_CWXvpAeQT",
        "outputId": "63f8739c-325c-410e-d6ad-8d2383f872dd"
      },
      "outputs": [],
      "source": [
        "df.loc[3, \"Mileage\"].split()"
      ]
    },
    {
      "cell_type": "code",
      "execution_count": null,
      "metadata": {
        "colab": {
          "base_uri": "https://localhost:8080/"
        },
        "id": "fFtZk0QLAofk",
        "outputId": "803886dd-48a5-448b-86cf-a2bb911da684"
      },
      "outputs": [],
      "source": [
        "type(float(df.loc[3, \"Mileage\"].split()[0]))"
      ]
    },
    {
      "cell_type": "code",
      "execution_count": null,
      "metadata": {
        "id": "4906ddy-Axw6"
      },
      "outputs": [],
      "source": [
        "def clean_mileage(mileage):\n",
        "  return float(str(mileage).split()[0]) if pd.notna(mileage) else None\n",
        "\n",
        "def clean_engine(engine):\n",
        "  return float(str(engine).split()[0]) if pd.notna(engine) else None\n",
        "\n",
        "def clean_power(power):\n",
        "  return float(str(power).split()[0]) if pd.notna(power) and power!= \"null bhp\" else None"
      ]
    },
    {
      "cell_type": "code",
      "execution_count": null,
      "metadata": {
        "id": "x2sgdtA9C4rn"
      },
      "outputs": [],
      "source": [
        "df[\"Mileage\"] = df[\"Mileage\"].apply(clean_mileage)\n",
        "df[\"Engine\"] = df[\"Engine\"].apply(clean_engine)\n",
        "df[\"Power\"] = df[\"Power\"].apply(clean_power)"
      ]
    },
    {
      "cell_type": "code",
      "execution_count": null,
      "metadata": {
        "colab": {
          "base_uri": "https://localhost:8080/",
          "height": 0
        },
        "id": "SnzIlSZ6CuHS",
        "outputId": "a21104b2-9634-4550-960a-bbdcfa280508"
      },
      "outputs": [],
      "source": [
        "df"
      ]
    },
    {
      "cell_type": "code",
      "execution_count": null,
      "metadata": {
        "colab": {
          "base_uri": "https://localhost:8080/",
          "height": 0
        },
        "id": "gmB_sPAbC6bk",
        "outputId": "12e144de-8899-47a5-c13f-ba836f195057"
      },
      "outputs": [],
      "source": [
        "df.isna().sum()"
      ]
    },
    {
      "cell_type": "code",
      "execution_count": null,
      "metadata": {
        "id": "I7VTvWoWDQuM"
      },
      "outputs": [],
      "source": [
        "na_cols_to_fill = [x for x in df.columns if df[x].isna().sum() != 0]"
      ]
    },
    {
      "cell_type": "code",
      "execution_count": null,
      "metadata": {
        "colab": {
          "base_uri": "https://localhost:8080/"
        },
        "id": "Wa9l1ogfEP8Q",
        "outputId": "b29e3b88-e591-4df4-9abf-2f1cb2cd8f73"
      },
      "outputs": [],
      "source": [
        "na_cols_to_fill"
      ]
    },
    {
      "cell_type": "code",
      "execution_count": null,
      "metadata": {
        "colab": {
          "base_uri": "https://localhost:8080/"
        },
        "id": "l0C5V9SKEX84",
        "outputId": "b3ca29fc-0a3e-459e-8888-68b2a15ad4b0"
      },
      "outputs": [],
      "source": [
        "for i in na_cols_to_fill:\n",
        "  df[i].fillna(df[i].mean(), inplace=True)"
      ]
    },
    {
      "cell_type": "code",
      "execution_count": null,
      "metadata": {
        "colab": {
          "base_uri": "https://localhost:8080/",
          "height": 0
        },
        "id": "V_UVeLgZEmrr",
        "outputId": "f00d672a-b9b0-4c7e-eead-f51ba7e2b464"
      },
      "outputs": [],
      "source": [
        "df.isna().sum()"
      ]
    },
    {
      "cell_type": "code",
      "execution_count": null,
      "metadata": {
        "colab": {
          "base_uri": "https://localhost:8080/",
          "height": 0
        },
        "id": "HQKib3gTEptb",
        "outputId": "9406246c-43f6-4bb8-d107-8f57370f3cef"
      },
      "outputs": [],
      "source": [
        "df"
      ]
    },
    {
      "cell_type": "markdown",
      "metadata": {
        "id": "Jd1GaiyY7evD"
      },
      "source": [
        "# Label Encoding"
      ]
    },
    {
      "cell_type": "code",
      "execution_count": null,
      "metadata": {
        "colab": {
          "base_uri": "https://localhost:8080/",
          "height": 0
        },
        "id": "HR0WiuyC8VwS",
        "outputId": "c9a51f99-0899-4aae-efa1-62c30569824f"
      },
      "outputs": [],
      "source": [
        "df"
      ]
    },
    {
      "cell_type": "code",
      "execution_count": null,
      "metadata": {
        "id": "_QTCx0vpFsFu"
      },
      "outputs": [],
      "source": [
        "from sklearn.preprocessing import LabelEncoder"
      ]
    },
    {
      "cell_type": "code",
      "execution_count": null,
      "metadata": {
        "id": "5Vj6oCwnFwwk"
      },
      "outputs": [],
      "source": [
        "le = LabelEncoder()"
      ]
    },
    {
      "cell_type": "code",
      "execution_count": null,
      "metadata": {
        "id": "1hCnrJojKzXj"
      },
      "outputs": [],
      "source": [
        "label_mappings = {}"
      ]
    },
    {
      "cell_type": "code",
      "execution_count": null,
      "metadata": {
        "id": "ygdFMDFuF0hM"
      },
      "outputs": [],
      "source": [
        "cat_cols = [x for x in df.columns if df[x].dtype == \"object\"]"
      ]
    },
    {
      "cell_type": "code",
      "execution_count": null,
      "metadata": {
        "colab": {
          "base_uri": "https://localhost:8080/"
        },
        "id": "KJbUSVFJF-FE",
        "outputId": "806c9d81-9bb8-4f03-f310-a2050d2f841d"
      },
      "outputs": [],
      "source": [
        "cat_cols"
      ]
    },
    {
      "cell_type": "code",
      "execution_count": null,
      "metadata": {
        "id": "Q4xZo8CDF-5O"
      },
      "outputs": [],
      "source": [
        "for i in cat_cols:\n",
        "  df[i] = le.fit_transform(df[i])\n",
        "  label_mappings[i] = dict(zip(le.classes_, le.transform(le.classes_)))"
      ]
    },
    {
      "cell_type": "code",
      "execution_count": null,
      "metadata": {
        "colab": {
          "base_uri": "https://localhost:8080/"
        },
        "id": "nq4dSXGeMGGc",
        "outputId": "3e44c6b0-ddd0-4570-dac2-153a2cde49e1"
      },
      "outputs": [],
      "source": [
        "label_mappings"
      ]
    },
    {
      "cell_type": "code",
      "execution_count": null,
      "metadata": {
        "colab": {
          "base_uri": "https://localhost:8080/",
          "height": 0
        },
        "id": "1R0PDwkeGNbe",
        "outputId": "88e5822c-6d34-4e5c-e6e8-a05797bcb323"
      },
      "outputs": [],
      "source": [
        "df"
      ]
    },
    {
      "cell_type": "code",
      "execution_count": null,
      "metadata": {
        "colab": {
          "base_uri": "https://localhost:8080/"
        },
        "id": "U54jqyxGAklH",
        "outputId": "a6963043-6c99-4fe7-9262-14df8ffc4981"
      },
      "outputs": [],
      "source": [
        "le.classes_"
      ]
    },
    {
      "cell_type": "code",
      "execution_count": null,
      "metadata": {
        "colab": {
          "base_uri": "https://localhost:8080/"
        },
        "id": "cdtog5vVM7ER",
        "outputId": "bc799ddf-e82e-4feb-9bdf-5a92a8103ed9"
      },
      "outputs": [],
      "source": [
        "le.transform(le.classes_)"
      ]
    },
    {
      "cell_type": "code",
      "execution_count": null,
      "metadata": {
        "id": "kYOs4n6SNGB1"
      },
      "outputs": [],
      "source": [
        "df_rm = df.copy()"
      ]
    },
    {
      "cell_type": "code",
      "execution_count": null,
      "metadata": {
        "colab": {
          "base_uri": "https://localhost:8080/"
        },
        "id": "x6qDJaqxNpyJ",
        "outputId": "f5b36b28-3d49-4727-ae90-96ccf558480c"
      },
      "outputs": [],
      "source": [
        "cat_cols"
      ]
    },
    {
      "cell_type": "code",
      "execution_count": null,
      "metadata": {
        "id": "kjCXM3B3Nk0G"
      },
      "outputs": [],
      "source": [
        "for col in cat_cols:\n",
        "  reverse_mapping = {v : k for k, v in label_mappings[col].items()}\n",
        "  df_rm[col] = df[col].map(reverse_mapping)"
      ]
    },
    {
      "cell_type": "markdown",
      "metadata": {
        "id": "S-C1bMI4PBaT"
      },
      "source": [
        "# Skewness and Kurtosis"
      ]
    },
    {
      "cell_type": "markdown",
      "metadata": {
        "id": "Sj366tqFG5cy"
      },
      "source": [
        "Skewness = 0\t-- Perfectly symmetrical (e.g., normal distribution)\n",
        "\n",
        "\n",
        "Skewness > 0\t-- Right-skewed (longer tail on the right; more smaller values)\n",
        "\n",
        "Skewness < 0\t-- Left-skewed (longer tail on the left; more larger values)\n",
        "\n",
        "\n",
        "\n"
      ]
    },
    {
      "cell_type": "markdown",
      "metadata": {
        "id": "1Ec5jBqnHGtz"
      },
      "source": [
        "Kurtosis ≈ 3\t-- Mesokurtic – Normal distribution (benchmark)\n",
        "\n",
        "Kurtosis > 3\t-- Leptokurtic – Heavy tails, sharp peak (more outliers)\n",
        "\n",
        "Kurtosis < 3\t-- Platykurtic – Light tails, flat peak (fewer outliers)\n",
        "\n"
      ]
    },
    {
      "cell_type": "code",
      "execution_count": null,
      "metadata": {
        "colab": {
          "base_uri": "https://localhost:8080/",
          "height": 0
        },
        "id": "53zM4sZoN_m5",
        "outputId": "927ed327-28ad-4c69-81e7-3253223cc1e2"
      },
      "outputs": [],
      "source": [
        "df"
      ]
    },
    {
      "cell_type": "code",
      "execution_count": null,
      "metadata": {
        "colab": {
          "base_uri": "https://localhost:8080/",
          "height": 0
        },
        "id": "H4kRuDjwPGsa",
        "outputId": "eb649876-c7fa-477f-b6d4-391294a08ab4"
      },
      "outputs": [],
      "source": [
        "df.skew()"
      ]
    },
    {
      "cell_type": "code",
      "execution_count": null,
      "metadata": {
        "colab": {
          "base_uri": "https://localhost:8080/",
          "height": 0
        },
        "id": "vhuBOP_GQIrW",
        "outputId": "3fa5606e-7eab-4f91-bf8f-deb8a6c94660"
      },
      "outputs": [],
      "source": [
        "df.kurt()"
      ]
    },
    {
      "cell_type": "markdown",
      "metadata": {
        "id": "_PzmNzX9Q8UP"
      },
      "source": [
        "To remove skewness and kurtosis we do log transform"
      ]
    },
    {
      "cell_type": "code",
      "execution_count": null,
      "metadata": {
        "id": "f4pPX7p9QUGl"
      },
      "outputs": [],
      "source": [
        "for i in df.columns:\n",
        "  df[i] = np.log1p(df[i])"
      ]
    },
    {
      "cell_type": "code",
      "execution_count": null,
      "metadata": {
        "colab": {
          "base_uri": "https://localhost:8080/",
          "height": 0
        },
        "id": "FzltOXD1RTt_",
        "outputId": "2a4f728f-3863-4971-ce9a-3cc53e6a1f21"
      },
      "outputs": [],
      "source": [
        "df.skew()"
      ]
    },
    {
      "cell_type": "code",
      "execution_count": null,
      "metadata": {
        "colab": {
          "base_uri": "https://localhost:8080/",
          "height": 0
        },
        "id": "5sXRPSsqR-Bi",
        "outputId": "a559d3bb-c22f-4d27-d171-c5d8156a63dd"
      },
      "outputs": [],
      "source": [
        "df.kurt()"
      ]
    },
    {
      "cell_type": "code",
      "execution_count": null,
      "metadata": {
        "id": "4ilFyF2YSCDi"
      },
      "outputs": [],
      "source": []
    },
    {
      "cell_type": "markdown",
      "metadata": {
        "id": "Nm9MX4JsSOXk"
      },
      "source": [
        "# Scaling"
      ]
    },
    {
      "cell_type": "code",
      "execution_count": null,
      "metadata": {
        "colab": {
          "base_uri": "https://localhost:8080/",
          "height": 0
        },
        "id": "6y8HGGzJTRn_",
        "outputId": "7ab6e1ec-6c25-4c58-c461-7c671c7f4e14"
      },
      "outputs": [],
      "source": [
        "df"
      ]
    },
    {
      "cell_type": "code",
      "execution_count": null,
      "metadata": {
        "colab": {
          "base_uri": "https://localhost:8080/"
        },
        "id": "GNR0br8RTVjK",
        "outputId": "ef222a57-5647-4d9a-8eff-74755df1e877"
      },
      "outputs": [],
      "source": [
        "len(df.columns)"
      ]
    },
    {
      "cell_type": "code",
      "execution_count": null,
      "metadata": {
        "id": "31G-fuTeTmbm"
      },
      "outputs": [],
      "source": [
        "from sklearn.preprocessing import MinMaxScaler, StandardScaler"
      ]
    },
    {
      "cell_type": "code",
      "execution_count": null,
      "metadata": {
        "id": "rzKjKntMVCGr"
      },
      "outputs": [],
      "source": [
        "ss = StandardScaler()    # -1 to 1"
      ]
    },
    {
      "cell_type": "code",
      "execution_count": null,
      "metadata": {
        "id": "YttAgZqXVqNJ"
      },
      "outputs": [],
      "source": [
        "ms = MinMaxScaler()      # 0 to 1"
      ]
    },
    {
      "cell_type": "code",
      "execution_count": null,
      "metadata": {
        "id": "Gk_e5azKVuad"
      },
      "outputs": [],
      "source": [
        "df_scaled = ms.fit_transform(df)"
      ]
    },
    {
      "cell_type": "code",
      "execution_count": null,
      "metadata": {
        "id": "iK8bR3tPVKdo"
      },
      "outputs": [],
      "source": [
        "df_scaled = ss.fit_transform(df)"
      ]
    },
    {
      "cell_type": "code",
      "execution_count": null,
      "metadata": {
        "colab": {
          "base_uri": "https://localhost:8080/"
        },
        "id": "4D40zBvtVSNS",
        "outputId": "c452bc57-0ae1-4900-d792-5c688d35c97a"
      },
      "outputs": [],
      "source": [
        "df_scaled"
      ]
    },
    {
      "cell_type": "code",
      "execution_count": null,
      "metadata": {
        "id": "LFBrbcG7VRbH"
      },
      "outputs": [],
      "source": [
        "df_scaled = pd.DataFrame(df_scaled, columns=df.columns)"
      ]
    },
    {
      "cell_type": "code",
      "execution_count": null,
      "metadata": {
        "colab": {
          "base_uri": "https://localhost:8080/",
          "height": 0
        },
        "id": "qyNre4gYVcT-",
        "outputId": "eddc6c4e-5aa4-4f51-d36a-e92e77f8fa2f"
      },
      "outputs": [],
      "source": [
        "df_scaled"
      ]
    },
    {
      "cell_type": "code",
      "execution_count": null,
      "metadata": {
        "id": "pqpFTVSxVdkc"
      },
      "outputs": [],
      "source": []
    },
    {
      "cell_type": "markdown",
      "metadata": {
        "id": "ZCwLm7zOXXvY"
      },
      "source": [
        "# Removing Outliers"
      ]
    },
    {
      "cell_type": "code",
      "execution_count": null,
      "metadata": {
        "id": "qoSaaMhWXaxR"
      },
      "outputs": [],
      "source": [
        "def remove_outliers(df, column):\n",
        "  Q1 = df[column].quantile(0.25)\n",
        "  Q3 = df[column].quantile(0.75)\n",
        "  IQR =  Q3-Q1\n",
        "  lower_bound = Q1-1.5*IQR\n",
        "  upper_bound = Q3+1.5*IQR\n",
        "\n",
        "  return df[(df[column] >= lower_bound) & (df[column] <=upper_bound)]\n"
      ]
    },
    {
      "cell_type": "code",
      "execution_count": null,
      "metadata": {
        "id": "OE0-tjXFZciL"
      },
      "outputs": [],
      "source": [
        "df_rm = remove_outliers(df_rm, \"Kilometers_Driven\")"
      ]
    },
    {
      "cell_type": "markdown",
      "metadata": {
        "id": "_5D5VmtmWB24"
      },
      "source": [
        "# Visualization"
      ]
    },
    {
      "cell_type": "code",
      "execution_count": null,
      "metadata": {
        "colab": {
          "base_uri": "https://localhost:8080/",
          "height": 443
        },
        "id": "eBjmA4HJV_KM",
        "outputId": "f17be196-7735-4675-9e12-fc7ff074af3c"
      },
      "outputs": [],
      "source": [
        "df_scaled"
      ]
    },
    {
      "cell_type": "markdown",
      "metadata": {
        "id": "NMm5iH7jXFqH"
      },
      "source": [
        "\n",
        "\n",
        "1.   matplotlib\n",
        "2.   seaborn\n",
        "3.   pandas_plotting\n",
        "4.   plotly\n",
        "\n"
      ]
    },
    {
      "cell_type": "code",
      "execution_count": null,
      "metadata": {},
      "outputs": [
        {
          "ename": "",
          "evalue": "",
          "output_type": "error",
          "traceback": [
            "\u001b[1;31mRunning cells with '.venv (Python 3.13.2)' requires the ipykernel package.\n",
            "\u001b[1;31mRun the following command to install 'ipykernel' into the Python environment. \n",
            "\u001b[1;31mCommand: 'd:/Study/Project/DA_UsedCar_project/.venv/Scripts/python.exe -m pip install ipykernel -U --force-reinstall'"
          ]
        }
      ],
      "source": [
        "!pip install matplotlib"
      ]
    },
    {
      "cell_type": "code",
      "execution_count": null,
      "metadata": {
        "id": "I4xYsliEXCHG"
      },
      "outputs": [
        {
          "ename": "",
          "evalue": "",
          "output_type": "error",
          "traceback": [
            "\u001b[1;31mRunning cells with '.venv (Python 3.13.2)' requires the ipykernel package.\n",
            "\u001b[1;31mRun the following command to install 'ipykernel' into the Python environment. \n",
            "\u001b[1;31mCommand: 'd:/Study/Project/DA_UsedCar_project/.venv/Scripts/python.exe -m pip install ipykernel -U --force-reinstall'"
          ]
        }
      ],
      "source": [
        "import matplotlib.pyplot as plt"
      ]
    },
    {
      "cell_type": "code",
      "execution_count": null,
      "metadata": {},
      "outputs": [],
      "source": [
        "!pip install seaborn"
      ]
    },
    {
      "cell_type": "code",
      "execution_count": null,
      "metadata": {
        "id": "ek6PIA-HYH1M"
      },
      "outputs": [],
      "source": [
        "import seaborn as sns"
      ]
    },
    {
      "cell_type": "code",
      "execution_count": null,
      "metadata": {
        "colab": {
          "base_uri": "https://localhost:8080/",
          "height": 445
        },
        "id": "izn-LXppXEU3",
        "outputId": "9b5bbc83-804a-4f23-ac61-9446185e4026"
      },
      "outputs": [],
      "source": [
        "df.corr()"
      ]
    },
    {
      "cell_type": "code",
      "execution_count": null,
      "metadata": {
        "colab": {
          "base_uri": "https://localhost:8080/",
          "height": 1000
        },
        "id": "S557c5tgXR6Y",
        "outputId": "ca6e6323-4aa9-42ba-d8e5-ad6c66761a85"
      },
      "outputs": [],
      "source": [
        "plt.figure(figsize=(20, 20))\n",
        "cor = df_scaled.corr()\n",
        "sns.heatmap(cor, cmap= \"PiYG\", annot=True)\n",
        "plt.show()"
      ]
    },
    {
      "cell_type": "code",
      "execution_count": null,
      "metadata": {
        "id": "nmVsDjb3ZJZu"
      },
      "outputs": [],
      "source": [
        "def correlation(dataset, threshold):\n",
        "  col_corr = set()\n",
        "  corr_matrix = dataset.corr()\n",
        "  for i in range(len(corr_matrix.columns)):\n",
        "    for j in range(i):\n",
        "      if (corr_matrix.iloc[i, j]) > threshold:\n",
        "          colname = corr_matrix.columns[i]\n",
        "          col_corr.add(colname)\n",
        "  return col_corr"
      ]
    },
    {
      "cell_type": "code",
      "execution_count": null,
      "metadata": {
        "id": "Qdy1zcIsZaPx"
      },
      "outputs": [],
      "source": [
        "var_to_remove = (correlation(df_scaled, 0.75))"
      ]
    },
    {
      "cell_type": "code",
      "execution_count": null,
      "metadata": {
        "id": "FZvY6NxcZs53"
      },
      "outputs": [],
      "source": [
        "var_to_remove.remove(\"Price\")"
      ]
    },
    {
      "cell_type": "code",
      "execution_count": null,
      "metadata": {
        "colab": {
          "base_uri": "https://localhost:8080/"
        },
        "id": "WvCOIlQfaCEU",
        "outputId": "1950de93-49fa-486d-a0f3-58c7aaff3d9e"
      },
      "outputs": [],
      "source": [
        "var_to_remove"
      ]
    },
    {
      "cell_type": "code",
      "execution_count": null,
      "metadata": {
        "id": "rs4hPfenaHuo"
      },
      "outputs": [],
      "source": [
        "# df_new = df_scaled.drop(\"Power\", axis=1)"
      ]
    },
    {
      "cell_type": "code",
      "execution_count": null,
      "metadata": {
        "colab": {
          "base_uri": "https://localhost:8080/",
          "height": 449
        },
        "id": "oT5a-roOaR-R",
        "outputId": "27613339-ce3a-472b-99b6-b4a7b4a6a5a4"
      },
      "outputs": [],
      "source": [
        "plt.scatter(df_rm[\"Owner_Type\"], df_rm[\"Price\"])\n",
        "plt.xlabel(\"Owner_type\")\n",
        "plt.ylabel(\"Price\")\n",
        "plt.show()"
      ]
    },
    {
      "cell_type": "code",
      "execution_count": null,
      "metadata": {
        "colab": {
          "base_uri": "https://localhost:8080/",
          "height": 1000
        },
        "id": "IIL0mTv0ap3V",
        "outputId": "f7891e6a-5394-433d-c371-df85ec101c39"
      },
      "outputs": [],
      "source": [
        "for i in df.columns.drop(\"Name\"):\n",
        "  plt.scatter(df_rm[i], df_rm[\"Price\"])\n",
        "  plt.xlabel(f\"{i}\")\n",
        "  plt.ylabel(\"Price\")\n",
        "  plt.xticks(rotation=45)\n",
        "  plt.show()"
      ]
    },
    {
      "cell_type": "code",
      "execution_count": null,
      "metadata": {
        "id": "jjGHS1XzbH8G"
      },
      "outputs": [],
      "source": [
        "from pandas.plotting import scatter_matrix"
      ]
    },
    {
      "cell_type": "code",
      "execution_count": null,
      "metadata": {
        "colab": {
          "base_uri": "https://localhost:8080/",
          "height": 1000
        },
        "id": "EO1rD0sdbthV",
        "outputId": "85c51f46-cbed-40ff-b76a-f7254fbc232a"
      },
      "outputs": [],
      "source": [
        "scatter_matrix(df_rm, figsize=(20, 20), alpha = 0.8, diagonal=\"hist\")  # diagonal -- kde for density distribution\n",
        "plt.show()"
      ]
    },
    {
      "cell_type": "code",
      "execution_count": null,
      "metadata": {
        "id": "DFuXAVUncE5-"
      },
      "outputs": [],
      "source": [
        "import plotly.express as px"
      ]
    },
    {
      "cell_type": "code",
      "execution_count": null,
      "metadata": {
        "colab": {
          "base_uri": "https://localhost:8080/",
          "height": 542
        },
        "id": "8Llw3r-zT67k",
        "outputId": "6e36d1fc-2ebf-4ee7-ca6d-9f65c9beac55"
      },
      "outputs": [],
      "source": [
        "fig = px.pie(df_rm, names=\"Owner_Type\", title=\"Pie Chart for Owner Type\" )\n",
        "fig.show()"
      ]
    },
    {
      "cell_type": "code",
      "execution_count": null,
      "metadata": {
        "colab": {
          "base_uri": "https://localhost:8080/"
        },
        "id": "uiJvanyuUpiv",
        "outputId": "5e093d94-e888-423c-d46a-5dc28624de12"
      },
      "outputs": [],
      "source": [
        "df_rm[\"Name\"].nunique()"
      ]
    },
    {
      "cell_type": "code",
      "execution_count": null,
      "metadata": {
        "colab": {
          "base_uri": "https://localhost:8080/"
        },
        "id": "urqtYrNnVI1L",
        "outputId": "d065e7e8-3b82-429d-abe2-6dc0090c4b4e"
      },
      "outputs": [],
      "source": [
        "cat_cols"
      ]
    },
    {
      "cell_type": "code",
      "execution_count": null,
      "metadata": {
        "id": "52sZQbsFVFk0"
      },
      "outputs": [],
      "source": [
        "pie_cols = cat_cols.copy()\n",
        "pie_cols.remove(\"Name\")"
      ]
    },
    {
      "cell_type": "code",
      "execution_count": null,
      "metadata": {
        "colab": {
          "base_uri": "https://localhost:8080/"
        },
        "id": "60BMGoDJVSNv",
        "outputId": "59f16b22-c678-47f7-9589-4e40f639666e"
      },
      "outputs": [],
      "source": [
        "pie_cols"
      ]
    },
    {
      "cell_type": "code",
      "execution_count": null,
      "metadata": {
        "colab": {
          "base_uri": "https://localhost:8080/",
          "height": 1000
        },
        "id": "f5qN8hZHUOja",
        "outputId": "4e535e4b-c1c4-4dfe-95e0-4cbaf361b166"
      },
      "outputs": [],
      "source": [
        "for i in pie_cols:\n",
        "  fig = px.pie(df_rm, names=i, title=f\"Pie Chart for {i}\", hole=0.3)\n",
        "  fig.show()"
      ]
    },
    {
      "cell_type": "code",
      "execution_count": null,
      "metadata": {
        "id": "cEAq3Q7pVdMq"
      },
      "outputs": [],
      "source": [
        "num_cols  = [x for x in df_rm.columns if df_rm[x].dtype != \"object\"]"
      ]
    },
    {
      "cell_type": "code",
      "execution_count": null,
      "metadata": {
        "colab": {
          "base_uri": "https://localhost:8080/"
        },
        "id": "hA9ZWSvbWJtC",
        "outputId": "c6ff7bb5-3ca4-4d56-e43d-60cfdbb65ef3"
      },
      "outputs": [],
      "source": [
        "num_cols"
      ]
    },
    {
      "cell_type": "code",
      "execution_count": null,
      "metadata": {
        "colab": {
          "base_uri": "https://localhost:8080/",
          "height": 542
        },
        "id": "Y0YABH46WO51",
        "outputId": "093be6ea-ea2d-45b1-9bb4-6e493b823cb4"
      },
      "outputs": [],
      "source": [
        "fig = px.scatter(df_rm, x=\"Kilometers_Driven\", y=\"Price\", title=\"KD vs Price\", labels={\"Kilometers_Driven\": \"Kilometers Driven\", \"Price\": \"Price\"}, color = \"Price\")\n",
        "fig.show()"
      ]
    },
    {
      "cell_type": "code",
      "execution_count": null,
      "metadata": {
        "colab": {
          "base_uri": "https://localhost:8080/",
          "height": 1000
        },
        "id": "Xn8Jvk90Wsta",
        "outputId": "1abfbce9-dcb0-4a2f-b633-6a57d601da60"
      },
      "outputs": [],
      "source": [
        "for i in num_cols:\n",
        "  fig = px.scatter(df_rm, x=i, y=\"Price\", title=f\"{i} vs Price\", labels={i: i, \"Price\": \"Price\"}, color = \"Price\")\n",
        "  fig.show()"
      ]
    },
    {
      "cell_type": "code",
      "execution_count": null,
      "metadata": {
        "id": "6vctRm3UZ_yn"
      },
      "outputs": [],
      "source": [
        "import seaborn as sns"
      ]
    },
    {
      "cell_type": "code",
      "execution_count": null,
      "metadata": {
        "id": "0PGHuGYkawZ8"
      },
      "outputs": [],
      "source": [
        "import matplotlib.pyplot as plt"
      ]
    },
    {
      "cell_type": "code",
      "execution_count": null,
      "metadata": {
        "colab": {
          "base_uri": "https://localhost:8080/",
          "height": 450
        },
        "id": "qw8XU7c8aPa-",
        "outputId": "56d77bcb-4b20-4e19-da88-9f0983cb5d87"
      },
      "outputs": [],
      "source": [
        "sns.boxplot(x=\"Fuel_Type\", y=\"Price\", data=df_rm)\n",
        "plt.show()"
      ]
    },
    {
      "cell_type": "code",
      "execution_count": null,
      "metadata": {
        "id": "ur_IvVIqaeSt"
      },
      "outputs": [],
      "source": [
        "cat_cols.remove(\"Name\")"
      ]
    },
    {
      "cell_type": "code",
      "execution_count": null,
      "metadata": {
        "colab": {
          "base_uri": "https://localhost:8080/"
        },
        "id": "3mCLQfA4SJji",
        "outputId": "48aaa9d8-261b-47f0-ab75-6f1fbf64a509"
      },
      "outputs": [],
      "source": [
        "cat_cols"
      ]
    },
    {
      "cell_type": "code",
      "execution_count": null,
      "metadata": {
        "colab": {
          "base_uri": "https://localhost:8080/",
          "height": 1000
        },
        "id": "ZEd7NvaYSPL4",
        "outputId": "9ffda881-6046-4182-f4a4-0c9d5107b6ac"
      },
      "outputs": [],
      "source": [
        "for i in cat_cols:\n",
        "  sns.boxplot(x=i, y=\"Price\", data=df_rm)\n",
        "  plt.xticks(rotation=45)\n",
        "  plt.show()"
      ]
    },
    {
      "cell_type": "code",
      "execution_count": null,
      "metadata": {
        "colab": {
          "base_uri": "https://localhost:8080/"
        },
        "id": "Q_gVCeJYSzjt",
        "outputId": "61e03324-5d4a-4719-810f-cd867787e976"
      },
      "outputs": [],
      "source": [
        "cat_cols"
      ]
    },
    {
      "cell_type": "code",
      "execution_count": null,
      "metadata": {
        "colab": {
          "base_uri": "https://localhost:8080/",
          "height": 1000
        },
        "id": "grNMZiU_SVTq",
        "outputId": "9c209899-36cd-4c09-c673-2860ee1250e6"
      },
      "outputs": [],
      "source": [
        "for i in cat_cols:\n",
        "  plt.hist(df_rm[i], color=\"skyblue\", edgecolor=\"Black\")\n",
        "  plt.title(f\"Histogram of {i}\")\n",
        "  plt.xticks(rotation=45)\n",
        "  plt.show()"
      ]
    },
    {
      "cell_type": "code",
      "execution_count": null,
      "metadata": {
        "id": "ETVgdMg4TV1M"
      },
      "outputs": [],
      "source": [
        "num_cols = [x for x in df_rm if df_rm[x].dtype != \"object\"]"
      ]
    },
    {
      "cell_type": "code",
      "execution_count": null,
      "metadata": {
        "colab": {
          "base_uri": "https://localhost:8080/"
        },
        "id": "7sgH3qlMTfby",
        "outputId": "74a7153f-1206-4d65-ff09-392993611160"
      },
      "outputs": [],
      "source": [
        "num_cols"
      ]
    },
    {
      "cell_type": "code",
      "execution_count": null,
      "metadata": {
        "colab": {
          "base_uri": "https://localhost:8080/",
          "height": 1000
        },
        "id": "WfLixVsfTBeX",
        "outputId": "33f8ab5f-797e-4112-ba11-6126f1316c79"
      },
      "outputs": [],
      "source": [
        "for i in num_cols:\n",
        "  plt.figure(figsize=(10, 6))\n",
        "  sns.kdeplot(data=df_rm[i])\n",
        "  plt.title(f\"KDE Plot of {i}\")\n",
        "  plt.xlabel(f\"{i}\")\n",
        "  plt.show()"
      ]
    },
    {
      "cell_type": "code",
      "execution_count": null,
      "metadata": {
        "colab": {
          "base_uri": "https://localhost:8080/",
          "height": 1000
        },
        "id": "IUVVNwxYTUl-",
        "outputId": "1738b2d8-2914-436b-9b08-a35fa1f6264e"
      },
      "outputs": [],
      "source": [
        "for i in df_rm.columns.drop('Name'):\n",
        "  sns.lineplot(data=df_rm, x=i, y=\"Price\")\n",
        "  plt.title(f\"{i} and Price Distribution\")\n",
        "  plt.xticks(rotation=45)\n",
        "  plt.show()"
      ]
    },
    {
      "cell_type": "code",
      "execution_count": null,
      "metadata": {
        "id": "bndKtDm9Txc-"
      },
      "outputs": [],
      "source": []
    },
    {
      "cell_type": "markdown",
      "metadata": {
        "id": "40oiY6wEaT3I"
      },
      "source": [
        "# Excel Questions Solved"
      ]
    },
    {
      "cell_type": "markdown",
      "metadata": {
        "id": "uAw2MNk8avi7"
      },
      "source": [
        "1. What is the average selling price of used cars by brand?"
      ]
    },
    {
      "cell_type": "code",
      "execution_count": null,
      "metadata": {
        "id": "Otsr0-qeatw2"
      },
      "outputs": [],
      "source": [
        "import pandas as pd\n",
        "import numpy as np\n",
        "import matplotlib.pyplot as plt"
      ]
    },
    {
      "cell_type": "code",
      "execution_count": null,
      "metadata": {
        "id": "vSjor_YSa4F6"
      },
      "outputs": [],
      "source": [
        "df_g = pd.read_csv(\"/content/used_cars.csv\")"
      ]
    },
    {
      "cell_type": "code",
      "execution_count": null,
      "metadata": {
        "colab": {
          "base_uri": "https://localhost:8080/",
          "height": 790
        },
        "id": "G1aSnQx6bAAJ",
        "outputId": "ad0f8c42-f352-412a-b83d-b9e3f3a09b7f"
      },
      "outputs": [],
      "source": [
        "df_g"
      ]
    },
    {
      "cell_type": "code",
      "execution_count": null,
      "metadata": {
        "colab": {
          "base_uri": "https://localhost:8080/",
          "height": 36
        },
        "id": "zRMVZk2ebh9z",
        "outputId": "dc33d46c-7d75-47cc-d5a7-6b86a00d32bf"
      },
      "outputs": [],
      "source": [
        "df_g.iloc[0,1].split()[0]"
      ]
    },
    {
      "cell_type": "code",
      "execution_count": null,
      "metadata": {
        "colab": {
          "base_uri": "https://localhost:8080/",
          "height": 458
        },
        "id": "I0gq2_09by4u",
        "outputId": "eef71003-e9aa-4833-81ee-cb6179e33f44"
      },
      "outputs": [],
      "source": [
        "df_g[\"Name\"]"
      ]
    },
    {
      "cell_type": "code",
      "execution_count": null,
      "metadata": {
        "id": "wWjoJUl9bDo8"
      },
      "outputs": [],
      "source": [
        "df_g[\"Brand\"] = df_g[\"Name\"].apply(lambda x: x.split()[0])"
      ]
    },
    {
      "cell_type": "code",
      "execution_count": null,
      "metadata": {
        "colab": {
          "base_uri": "https://localhost:8080/",
          "height": 790
        },
        "id": "Wc9NktSub9XN",
        "outputId": "bf928582-d2ee-457a-b725-d1312cdbe7be"
      },
      "outputs": [],
      "source": [
        "df_g"
      ]
    },
    {
      "cell_type": "code",
      "execution_count": null,
      "metadata": {
        "id": "RpZxiYQ7b-Rl"
      },
      "outputs": [],
      "source": [
        "# df_g.groupby(\"Brand\").agg({\"Price\" : [\"mean\", \"min\", \"max\"]}).reset_index()"
      ]
    },
    {
      "cell_type": "code",
      "execution_count": null,
      "metadata": {
        "colab": {
          "base_uri": "https://localhost:8080/",
          "height": 1000
        },
        "id": "NFV5_hhAcmVa",
        "outputId": "21c059eb-937e-4c14-ae61-e4993ec09460"
      },
      "outputs": [],
      "source": [
        "df_g.groupby(\"Brand\").agg({\"Price\" : [\"mean\"]}).reset_index()"
      ]
    },
    {
      "cell_type": "markdown",
      "metadata": {
        "id": "wm4YNp-_d3xE"
      },
      "source": [
        "2. How many cars are available per year?"
      ]
    },
    {
      "cell_type": "code",
      "execution_count": null,
      "metadata": {
        "id": "YSE9UokhdPQs"
      },
      "outputs": [],
      "source": [
        "q2 = df_g[\"Year\"].value_counts().reset_index()"
      ]
    },
    {
      "cell_type": "code",
      "execution_count": null,
      "metadata": {
        "colab": {
          "base_uri": "https://localhost:8080/",
          "height": 739
        },
        "id": "ISWJijKNd-g2",
        "outputId": "790f1386-e28b-4b11-f0e8-a9963444f2fc"
      },
      "outputs": [],
      "source": [
        "q2"
      ]
    },
    {
      "cell_type": "code",
      "execution_count": null,
      "metadata": {
        "id": "rNun8gNFggsB"
      },
      "outputs": [],
      "source": [
        "import seaborn as sns"
      ]
    },
    {
      "cell_type": "code",
      "execution_count": null,
      "metadata": {
        "colab": {
          "base_uri": "https://localhost:8080/",
          "height": 617
        },
        "id": "75kVJbdYd_z1",
        "outputId": "8f5177d7-9c0b-427b-804a-1fd746c1735b"
      },
      "outputs": [],
      "source": [
        "plt.figure(figsize=(20, 10))\n",
        "sns.barplot(data=q2, x=\"Year\", y=\"count\")\n",
        "plt.title(\"Cars Available Per Year\")\n",
        "plt.xticks(rotation=45)\n",
        "plt.show()"
      ]
    },
    {
      "cell_type": "markdown",
      "metadata": {
        "id": "jecJVfPPeiht"
      },
      "source": [
        "3. What is the average mileage (kmpl/km/kg) by fuel type?"
      ]
    },
    {
      "cell_type": "code",
      "execution_count": null,
      "metadata": {
        "colab": {
          "base_uri": "https://localhost:8080/",
          "height": 790
        },
        "id": "6cfFK5gfeV7z",
        "outputId": "af917d56-5321-4599-ec6a-0c13f8086849"
      },
      "outputs": [],
      "source": [
        "df_g"
      ]
    },
    {
      "cell_type": "code",
      "execution_count": null,
      "metadata": {
        "id": "TEV03p4pfuED"
      },
      "outputs": [],
      "source": [
        "def clean_mileage(mileage):\n",
        "  return float(str(mileage).split()[0]) if pd.notna(mileage) else None\n",
        "\n",
        "def clean_engine(engine):\n",
        "  return float(str(engine).split()[0]) if pd.notna(engine) else None\n",
        "\n",
        "def clean_power(power):\n",
        "  return float(str(power).split()[0]) if pd.notna(power) and power!= \"null bhp\" else None"
      ]
    },
    {
      "cell_type": "code",
      "execution_count": null,
      "metadata": {
        "id": "4etAim5EffJc"
      },
      "outputs": [],
      "source": [
        "df_g[\"Mileage\"] = df_g[\"Mileage\"].apply(clean_mileage)"
      ]
    },
    {
      "cell_type": "code",
      "execution_count": null,
      "metadata": {
        "colab": {
          "base_uri": "https://localhost:8080/",
          "height": 790
        },
        "id": "HOQhrbI0fmo6",
        "outputId": "8a161d7e-2384-40e0-b3f3-e95626e02e7b"
      },
      "outputs": [],
      "source": [
        "df_g"
      ]
    },
    {
      "cell_type": "code",
      "execution_count": null,
      "metadata": {
        "id": "DAdNAEJJfoIC"
      },
      "outputs": [],
      "source": [
        "q3 = df_g.groupby(\"Fuel_Type\").agg({\"Mileage\" : \"mean\"}).reset_index()"
      ]
    },
    {
      "cell_type": "code",
      "execution_count": null,
      "metadata": {
        "id": "95PlR6JAgmIP"
      },
      "outputs": [],
      "source": [
        "import plotly.express as px"
      ]
    },
    {
      "cell_type": "code",
      "execution_count": null,
      "metadata": {
        "colab": {
          "base_uri": "https://localhost:8080/",
          "height": 206
        },
        "id": "G4CiAwfJhEj4",
        "outputId": "20c1a5a5-b222-4b0c-871b-662579a900ed"
      },
      "outputs": [],
      "source": [
        "q3"
      ]
    },
    {
      "cell_type": "code",
      "execution_count": null,
      "metadata": {
        "colab": {
          "base_uri": "https://localhost:8080/",
          "height": 542
        },
        "id": "j6K82xtYgAuy",
        "outputId": "8f0eb3a0-8f15-43ba-dad4-4efb809e7801"
      },
      "outputs": [],
      "source": [
        "fig = px.pie(q3, names=\"Fuel_Type\", values=\"Mileage\")\n",
        "fig.show()"
      ]
    },
    {
      "cell_type": "markdown",
      "metadata": {
        "id": "U5P0ajkZhOT6"
      },
      "source": [
        "4. What is the distribution of cars by transmission type?"
      ]
    },
    {
      "cell_type": "code",
      "execution_count": null,
      "metadata": {
        "colab": {
          "base_uri": "https://localhost:8080/",
          "height": 143
        },
        "id": "00y1iRksgTzq",
        "outputId": "381d87c7-1306-4979-dc17-e85d5d378acc"
      },
      "outputs": [],
      "source": [
        "# df_g.groupby(\"Transmission\").agg({\"Location\" : \"count\"})"
      ]
    },
    {
      "cell_type": "code",
      "execution_count": null,
      "metadata": {
        "id": "yDiH27B5hPX4"
      },
      "outputs": [],
      "source": [
        "q4 = df_g[\"Transmission\"].value_counts().reset_index()"
      ]
    },
    {
      "cell_type": "code",
      "execution_count": null,
      "metadata": {
        "colab": {
          "base_uri": "https://localhost:8080/",
          "height": 542
        },
        "id": "JaZQXcJVhn1S",
        "outputId": "54db7a69-4108-45e4-dc6e-108fca76901d"
      },
      "outputs": [],
      "source": [
        "fig = px.pie(q4, names = 'Transmission',values=\"count\", title = 'Pie Chart')\n",
        "fig.show()"
      ]
    },
    {
      "cell_type": "markdown",
      "metadata": {
        "id": "GUICIWjLIAE6"
      },
      "source": [
        "5. Which Owner type offers the most cars, and what's the average selling price?"
      ]
    },
    {
      "cell_type": "code",
      "execution_count": null,
      "metadata": {
        "id": "dSlqJjlqiCt1"
      },
      "outputs": [],
      "source": [
        "q5 = df_g.groupby(\"Owner_Type\").agg({\"Name\":\"count\", \"Price\":\"mean\"}).reset_index()"
      ]
    },
    {
      "cell_type": "code",
      "execution_count": null,
      "metadata": {
        "colab": {
          "base_uri": "https://localhost:8080/",
          "height": 507
        },
        "id": "rCmzVl-qiPio",
        "outputId": "6983caa8-fefd-4e87-9cc3-0b5c64359fac"
      },
      "outputs": [],
      "source": [
        "fig, ax1 = plt.subplots(figsize=(8, 5))\n",
        "\n",
        "ax1.bar(q5[\"Owner_Type\"], q5[\"Name\"], color='skyblue', label=\"Car Count\")\n",
        "ax1.set_ylabel(\"Car Count\", color='black')\n",
        "ax1.tick_params(axis='y', labelcolor='black')\n",
        "\n",
        "ax2 = ax1.twinx()\n",
        "ax2.plot(q5[\"Owner_Type\"], q5[\"Price\"], color='red', marker='o', label=\"Avg Price\")\n",
        "ax2.set_ylabel(\"Average Price\", color='red')\n",
        "ax2.tick_params(axis='y', labelcolor='red')\n",
        "\n",
        "plt.title(\"Car Count and Average Price by Owner Type\")\n",
        "plt.tight_layout()\n",
        "plt.show()"
      ]
    },
    {
      "cell_type": "markdown",
      "metadata": {
        "id": "LCVc4BWbIzXx"
      },
      "source": [
        "6. Which year has the highest average selling price?"
      ]
    },
    {
      "cell_type": "code",
      "execution_count": null,
      "metadata": {
        "id": "_ExXQaRejWF3"
      },
      "outputs": [],
      "source": [
        "year_price = df_g.groupby(\"Year\").agg({\"Price\" : \"mean\"}).reset_index()"
      ]
    },
    {
      "cell_type": "code",
      "execution_count": null,
      "metadata": {
        "colab": {
          "base_uri": "https://localhost:8080/",
          "height": 147
        },
        "id": "YnORtG3Ljfdi",
        "outputId": "9f5b30d5-9e55-4bf6-f1d1-29ae4e79b3fe"
      },
      "outputs": [],
      "source": [
        "(year_price.sort_values(by=\"Price\", ascending=False)).iloc[0, ]"
      ]
    },
    {
      "cell_type": "markdown",
      "metadata": {
        "id": "vsLF3z_NJwJ4"
      },
      "source": [
        "7. What is the relationship between engine size (binned) and price?"
      ]
    },
    {
      "cell_type": "code",
      "execution_count": null,
      "metadata": {
        "id": "JGG2xoGkj_ib"
      },
      "outputs": [],
      "source": [
        "df_g[\"Engine\"] = df_g[\"Engine\"].apply(clean_engine)"
      ]
    },
    {
      "cell_type": "code",
      "execution_count": null,
      "metadata": {
        "colab": {
          "base_uri": "https://localhost:8080/",
          "height": 790
        },
        "id": "OPUDMTbDkKBg",
        "outputId": "28704e29-d159-4cfb-e291-fcc4b70f5941"
      },
      "outputs": [],
      "source": [
        "df_g"
      ]
    },
    {
      "cell_type": "code",
      "execution_count": null,
      "metadata": {
        "id": "s_IvYkCekKu0"
      },
      "outputs": [],
      "source": [
        "df_g[\"engine_size_bin\"] = pd.cut(df_g[\"Engine\"], bins=[0, 1000, 2000, 3000, 4000, 5000, 6000])"
      ]
    },
    {
      "cell_type": "code",
      "execution_count": null,
      "metadata": {
        "colab": {
          "base_uri": "https://localhost:8080/",
          "height": 790
        },
        "id": "Dfy-g64-kTIf",
        "outputId": "7388c4a0-c36c-4b30-b9f9-c4b41382078a"
      },
      "outputs": [],
      "source": [
        "df_g"
      ]
    },
    {
      "cell_type": "code",
      "execution_count": null,
      "metadata": {
        "colab": {
          "base_uri": "https://localhost:8080/"
        },
        "id": "RGiqVf9Vk1IN",
        "outputId": "4a9c2b08-d90c-4b7b-ef70-57e9f7885104"
      },
      "outputs": [],
      "source": [
        "q7 = df_g.groupby(\"engine_size_bin\").agg({\"Price\" : \"mean\"}).reset_index()"
      ]
    },
    {
      "cell_type": "code",
      "execution_count": null,
      "metadata": {
        "id": "z1kOtBU3kUJ7"
      },
      "outputs": [],
      "source": [
        "q7[\"engine_size_bin\"] = q7[\"engine_size_bin\"].astype(str)"
      ]
    },
    {
      "cell_type": "code",
      "execution_count": null,
      "metadata": {
        "colab": {
          "base_uri": "https://localhost:8080/",
          "height": 624
        },
        "id": "GJEYO5K_lEZv",
        "outputId": "7c90c706-2e04-43d7-8601-504407e8086d"
      },
      "outputs": [],
      "source": [
        "plt.figure(figsize=(10,6))\n",
        "sns.barplot(data=q7, x=\"engine_size_bin\", y=\"Price\")\n",
        "plt.title(\"relationship between engine size and price\")\n",
        "plt.xticks(rotation=45)\n",
        "plt.show()"
      ]
    },
    {
      "cell_type": "code",
      "execution_count": null,
      "metadata": {
        "id": "LiOHHYg6lG1N"
      },
      "outputs": [],
      "source": []
    }
  ],
  "metadata": {
    "colab": {
      "collapsed_sections": [
        "Oz7wi-Iw2iGZ",
        "JfuiC6Nv2qy1",
        "3xtNnK_L9lQM",
        "3FZtH8Uu-4Wv",
        "Jd1GaiyY7evD",
        "S-C1bMI4PBaT",
        "Nm9MX4JsSOXk",
        "ZCwLm7zOXXvY",
        "_5D5VmtmWB24"
      ],
      "provenance": []
    },
    "kernelspec": {
      "display_name": "Python 3",
      "name": "python3"
    },
    "language_info": {
      "codemirror_mode": {
        "name": "ipython",
        "version": 3
      },
      "file_extension": ".py",
      "mimetype": "text/x-python",
      "name": "python",
      "nbconvert_exporter": "python",
      "pygments_lexer": "ipython3",
      "version": "3.13.2"
    }
  },
  "nbformat": 4,
  "nbformat_minor": 0
}
